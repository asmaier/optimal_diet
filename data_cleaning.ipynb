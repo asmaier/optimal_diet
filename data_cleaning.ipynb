{
 "cells": [
  {
   "cell_type": "code",
   "execution_count": 57,
   "id": "22bfbda3-3774-4312-bacf-8827f405fc2e",
   "metadata": {},
   "outputs": [],
   "source": [
    "import pandas as pd\n",
    "import numpy as np"
   ]
  },
  {
   "cell_type": "code",
   "execution_count": 79,
   "id": "75972354-9dab-4184-8fac-bebc27ae1233",
   "metadata": {},
   "outputs": [],
   "source": [
    "df_raw = pd.read_excel(\"Table Ciqual 2020_ENG_2020 07 07.xls\", decimal=\",\")"
   ]
  },
  {
   "cell_type": "code",
   "execution_count": 80,
   "id": "f89607c5-0720-4300-8262-5d5f0b5301c1",
   "metadata": {},
   "outputs": [
    {
     "name": "stdout",
     "output_type": "stream",
     "text": [
      "<class 'pandas.core.frame.DataFrame'>\n",
      "RangeIndex: 3186 entries, 0 to 3185\n",
      "Data columns (total 76 columns):\n",
      " #   Column                                              Non-Null Count  Dtype \n",
      "---  ------                                              --------------  ----- \n",
      " 0   alim_grp_code                                       3186 non-null   int64 \n",
      " 1   alim_ssgrp_code                                     3186 non-null   int64 \n",
      " 2   alim_ssssgrp_code                                   3186 non-null   int64 \n",
      " 3   alim_grp_nom_eng                                    3141 non-null   object\n",
      " 4   alim_ssgrp_nom_eng                                  3141 non-null   object\n",
      " 5   alim_ssssgrp_nom_eng                                3141 non-null   object\n",
      " 6   alim_code                                           3186 non-null   int64 \n",
      " 7   alim_nom_eng                                        3186 non-null   object\n",
      " 8   alim_nom_sci                                        270 non-null    object\n",
      " 9   Energy, Regulation EU No 1169/2011 (kJ/100g)        3169 non-null   object\n",
      " 10  Energy, Regulation EU No 1169/2011 (kcal/100g)      3169 non-null   object\n",
      " 11  Energy, N x Jones' factor, with fibres (kJ/100g)    3169 non-null   object\n",
      " 12  Energy, N x Jones' factor, with fibres (kcal/100g)  3169 non-null   object\n",
      " 13  Water (g/100g)                                      3183 non-null   object\n",
      " 14  Protein (g/100g)                                    3185 non-null   object\n",
      " 15  Protein, crude, N x 6.25 (g/100g)                   3185 non-null   object\n",
      " 16  Carbohydrate (g/100g)                               3185 non-null   object\n",
      " 17  Fat (g/100g)                                        3185 non-null   object\n",
      " 18  Sugars (g/100g)                                     3177 non-null   object\n",
      " 19  fructose (g/100g)                                   3147 non-null   object\n",
      " 20  galactose (g/100g)                                  3102 non-null   object\n",
      " 21  glucose (g/100g)                                    3148 non-null   object\n",
      " 22  lactose (g/100g)                                    3141 non-null   object\n",
      " 23  maltose (g/100g)                                    3145 non-null   object\n",
      " 24  sucrose (g/100g)                                    3148 non-null   object\n",
      " 25  Starch (g/100g)                                     3150 non-null   object\n",
      " 26  Fibres (g/100g)                                     3185 non-null   object\n",
      " 27  Polyols (g/100g)                                    3174 non-null   object\n",
      " 28  Ash (g/100g)                                        3180 non-null   object\n",
      " 29  Alcohol (g/100g)                                    3185 non-null   object\n",
      " 30  Organic acids (g/100g)                              3180 non-null   object\n",
      " 31  FA saturated (g/100g)                               3181 non-null   object\n",
      " 32  FA mono (g/100g)                                    3177 non-null   object\n",
      " 33  FA poly (g/100g)                                    3175 non-null   object\n",
      " 34  FA 4:0 (g/100g)                                     3153 non-null   object\n",
      " 35  FA 6:0 (g/100g)                                     3151 non-null   object\n",
      " 36  FA 8:0 (g/100g)                                     3152 non-null   object\n",
      " 37  FA 10:0 (g/100g)                                    3153 non-null   object\n",
      " 38  FA 12:0 (g/100g)                                    3162 non-null   object\n",
      " 39  FA 14:0 (g/100g)                                    3164 non-null   object\n",
      " 40  FA 16:0 (g/100g)                                    3164 non-null   object\n",
      " 41  FA 18:0 (g/100g)                                    3164 non-null   object\n",
      " 42  FA 18:1 n-9 cis (g/100g)                            3147 non-null   object\n",
      " 43  FA 18:2 9c,12c (n-6) (g/100g)                       3147 non-null   object\n",
      " 44  FA 18:3 c9,c12,c15 (n-3) (g/100g)                   3150 non-null   object\n",
      " 45  FA 20:4 5c,8c,11c,14c (n-6) (g/100g)                3135 non-null   object\n",
      " 46  FA 20:5 5c,8c,11c,14c,17c (n-3) EPA (g/100g)        3151 non-null   object\n",
      " 47  FA 22:6 4c,7c,10c,13c,16c,19c (n-3) DHA (g/100g)    3158 non-null   object\n",
      " 48  Cholesterol (mg/100g)                               3165 non-null   object\n",
      " 49  Salt (g/100g)                                       3180 non-null   object\n",
      " 50  Calcium (mg/100g)                                   3176 non-null   object\n",
      " 51  Chloride (mg/100g)                                  3134 non-null   object\n",
      " 52  Copper (mg/100g)                                    3168 non-null   object\n",
      " 53  Iron (mg/100g)                                      3178 non-null   object\n",
      " 54  Iodine (µg/100g)                                    3165 non-null   object\n",
      " 55  Magnesium (mg/100g)                                 3174 non-null   object\n",
      " 56  Manganese (mg/100g)                                 3167 non-null   object\n",
      " 57  Phosphorus (mg/100g)                                3172 non-null   object\n",
      " 58  Potassium (mg/100g)                                 3173 non-null   object\n",
      " 59  Selenium (µg/100g)                                  3165 non-null   object\n",
      " 60  Sodium (mg/100g)                                    3180 non-null   object\n",
      " 61  Zinc (mg/100g)                                      3175 non-null   object\n",
      " 62  Retinol (µg/100g)                                   3156 non-null   object\n",
      " 63  Beta-carotene (µg/100g)                             3158 non-null   object\n",
      " 64  Vitamin D (µg/100g)                                 3155 non-null   object\n",
      " 65  Vitamin E (mg/100g)                                 3168 non-null   object\n",
      " 66  Vitamin K1 (µg/100g)                                3123 non-null   object\n",
      " 67  Vitamin K2 (µg/100g)                                3071 non-null   object\n",
      " 68  Vitamin C (mg/100g)                                 3165 non-null   object\n",
      " 69  Vitamin B1 or Thiamin (mg/100g)                     3172 non-null   object\n",
      " 70  Vitamin B2 or Riboflavin (mg/100g)                  3170 non-null   object\n",
      " 71  Vitamin B3 or Niacin (mg/100g)                      3172 non-null   object\n",
      " 72  Vitamin B5 or Pantothenic acid (mg/100g)            3165 non-null   object\n",
      " 73  Vitamin B6 (mg/100g)                                3172 non-null   object\n",
      " 74  Vitamin B9 or Folate (µg/100g)                      3166 non-null   object\n",
      " 75  Vitamin B12 (µg/100g)                               3168 non-null   object\n",
      "dtypes: int64(4), object(72)\n",
      "memory usage: 1.8+ MB\n"
     ]
    }
   ],
   "source": [
    "df_raw.info()"
   ]
  },
  {
   "cell_type": "code",
   "execution_count": 81,
   "id": "c1946120-9eda-44fc-836b-4bbacda024a2",
   "metadata": {},
   "outputs": [],
   "source": [
    "df_selected = df_raw[[\"alim_nom_eng\", \"Energy, N x Jones' factor, with fibres (kcal/100g)\", \"Protein (g/100g)\", \"Carbohydrate (g/100g)\", \"Fat (g/100g)\", 'Salt (g/100g)', 'Calcium (mg/100g)',\n",
    "       'Chloride (mg/100g)', 'Copper (mg/100g)', 'Iron (mg/100g)',\n",
    "       'Iodine (µg/100g)', 'Magnesium (mg/100g)', 'Manganese (mg/100g)',\n",
    "       'Phosphorus (mg/100g)', 'Potassium (mg/100g)', 'Selenium (µg/100g)',\n",
    "       'Sodium (mg/100g)', 'Zinc (mg/100g)', 'Retinol (µg/100g)',\n",
    "       'Beta-carotene (µg/100g)', 'Vitamin D (µg/100g)', 'Vitamin E (mg/100g)',\n",
    "       'Vitamin K1 (µg/100g)', 'Vitamin K2 (µg/100g)', 'Vitamin C (mg/100g)',\n",
    "       'Vitamin B1 or Thiamin (mg/100g)', 'Vitamin B2 or Riboflavin (mg/100g)',\n",
    "       'Vitamin B3 or Niacin (mg/100g)',\n",
    "       'Vitamin B5 or Pantothenic acid (mg/100g)', 'Vitamin B6 (mg/100g)',\n",
    "       'Vitamin B9 or Folate (µg/100g)', 'Vitamin B12 (µg/100g)']]"
   ]
  },
  {
   "cell_type": "code",
   "execution_count": 82,
   "id": "150ce333-bf3d-48ee-aeb6-af7b900ca54e",
   "metadata": {},
   "outputs": [
    {
     "data": {
      "text/plain": [
       "Index(['alim_nom_eng', 'Energy, N x Jones' factor, with fibres (kcal/100g)',\n",
       "       'Protein (g/100g)', 'Carbohydrate (g/100g)', 'Fat (g/100g)',\n",
       "       'Salt (g/100g)', 'Calcium (mg/100g)', 'Chloride (mg/100g)',\n",
       "       'Copper (mg/100g)', 'Iron (mg/100g)', 'Iodine (µg/100g)',\n",
       "       'Magnesium (mg/100g)', 'Manganese (mg/100g)', 'Phosphorus (mg/100g)',\n",
       "       'Potassium (mg/100g)', 'Selenium (µg/100g)', 'Sodium (mg/100g)',\n",
       "       'Zinc (mg/100g)', 'Retinol (µg/100g)', 'Beta-carotene (µg/100g)',\n",
       "       'Vitamin D (µg/100g)', 'Vitamin E (mg/100g)', 'Vitamin K1 (µg/100g)',\n",
       "       'Vitamin K2 (µg/100g)', 'Vitamin C (mg/100g)',\n",
       "       'Vitamin B1 or Thiamin (mg/100g)', 'Vitamin B2 or Riboflavin (mg/100g)',\n",
       "       'Vitamin B3 or Niacin (mg/100g)',\n",
       "       'Vitamin B5 or Pantothenic acid (mg/100g)', 'Vitamin B6 (mg/100g)',\n",
       "       'Vitamin B9 or Folate (µg/100g)', 'Vitamin B12 (µg/100g)'],\n",
       "      dtype='object')"
      ]
     },
     "execution_count": 82,
     "metadata": {},
     "output_type": "execute_result"
    }
   ],
   "source": [
    "df_selected.columns"
   ]
  },
  {
   "cell_type": "code",
   "execution_count": 92,
   "id": "36c8e2bd-f92a-4fb9-8ce8-711bd66ed8b6",
   "metadata": {},
   "outputs": [],
   "source": [
    "# remove values not available at https://www.anses.fr/en/content/dietary-reference-values-vitamins-and-minerals\n",
    "# fix data issues\n",
    "# set nans and empty values to 0.0\n",
    "df_reduced = df_selected.drop([\"Salt (g/100g)\", \"Vitamin K2 (µg/100g)\"], axis=1).apply(lambda x: x.str.replace(',','.').str.strip(\"< > + - traces\").replace('', \"0.0\").replace(np.nan, \"0.0\"))"
   ]
  },
  {
   "cell_type": "code",
   "execution_count": 121,
   "id": "e218d330-61d7-4c8a-9e86-6ef7494d6e72",
   "metadata": {},
   "outputs": [],
   "source": [
    "# compute Vitamin A content\n",
    "df_reduced[\"Vitamin A (µg/100g)\"] = df_reduced[\"Retinol (µg/100g)\"].astype(\"float\") + 1/6 * df_reduced[\"Beta-carotene (µg/100g)\"].astype(\"float\")\n",
    "df_vitA = df_reduced.drop([\"Retinol (µg/100g)\", \"Beta-carotene (µg/100g)\"], axis=1)"
   ]
  },
  {
   "cell_type": "code",
   "execution_count": 122,
   "id": "a2eda16a-9158-48ea-b801-d5e4ebf714f0",
   "metadata": {},
   "outputs": [],
   "source": [
    "df_final = df_vitA.rename(columns={\"alim_nom_eng\": \"Name\", \"Energy, N x Jones' factor, with fibres (kcal/100g)\": \"Energy (kcal/100g)\"})"
   ]
  },
  {
   "cell_type": "code",
   "execution_count": 151,
   "id": "207d1a69-bc5d-475a-978b-f39e31272017",
   "metadata": {
    "scrolled": true,
    "tags": []
   },
   "outputs": [],
   "source": [
    "df_final.to_csv(\"ciqual_2020.csv\", header=True, index=False)"
   ]
  },
  {
   "cell_type": "code",
   "execution_count": 124,
   "id": "ac21ed2a-f2ab-420b-81ca-010392ec3a30",
   "metadata": {},
   "outputs": [],
   "source": [
    "df_empty = df_final[0:0]"
   ]
  },
  {
   "cell_type": "code",
   "execution_count": 156,
   "id": "a5d86f22-d08d-4144-a300-77e614a3993c",
   "metadata": {},
   "outputs": [],
   "source": [
    "df_RDI = df_empty.drop(\"Name\", axis=1)"
   ]
  },
  {
   "cell_type": "code",
   "execution_count": 157,
   "id": "1cf3a17c-2c5a-46ac-bb5f-dc238e27df91",
   "metadata": {},
   "outputs": [
    {
     "data": {
      "text/plain": [
       "Index(['Energy (kcal/100g)', 'Protein (g/100g)', 'Carbohydrate (g/100g)',\n",
       "       'Fat (g/100g)', 'Calcium (mg/100g)', 'Chloride (mg/100g)',\n",
       "       'Copper (mg/100g)', 'Iron (mg/100g)', 'Iodine (µg/100g)',\n",
       "       'Magnesium (mg/100g)', 'Manganese (mg/100g)', 'Phosphorus (mg/100g)',\n",
       "       'Potassium (mg/100g)', 'Selenium (µg/100g)', 'Sodium (mg/100g)',\n",
       "       'Zinc (mg/100g)', 'Vitamin D (µg/100g)', 'Vitamin E (mg/100g)',\n",
       "       'Vitamin K1 (µg/100g)', 'Vitamin C (mg/100g)',\n",
       "       'Vitamin B1 or Thiamin (mg/100g)', 'Vitamin B2 or Riboflavin (mg/100g)',\n",
       "       'Vitamin B3 or Niacin (mg/100g)',\n",
       "       'Vitamin B5 or Pantothenic acid (mg/100g)', 'Vitamin B6 (mg/100g)',\n",
       "       'Vitamin B9 or Folate (µg/100g)', 'Vitamin B12 (µg/100g)',\n",
       "       'Vitamin A (µg/100g)'],\n",
       "      dtype='object')"
      ]
     },
     "execution_count": 157,
     "metadata": {},
     "output_type": "execute_result"
    }
   ],
   "source": [
    "df_RDI.columns"
   ]
  },
  {
   "cell_type": "code",
   "execution_count": 158,
   "id": "a62217c1-9697-47a4-b134-82184e529ab5",
   "metadata": {},
   "outputs": [],
   "source": [
    "# rename columns to hold daily amount of nutrient\n",
    "df_RDI=df_RDI.rename(columns=lambda x: x.replace(\"100g\",\"d\"))"
   ]
  },
  {
   "cell_type": "code",
   "execution_count": 159,
   "id": "a687b25c-4189-4a1d-aaa2-9cd4f5274171",
   "metadata": {},
   "outputs": [
    {
     "data": {
      "text/plain": [
       "Index(['Energy (kcal/d)', 'Protein (g/d)', 'Carbohydrate (g/d)', 'Fat (g/d)',\n",
       "       'Calcium (mg/d)', 'Chloride (mg/d)', 'Copper (mg/d)', 'Iron (mg/d)',\n",
       "       'Iodine (µg/d)', 'Magnesium (mg/d)', 'Manganese (mg/d)',\n",
       "       'Phosphorus (mg/d)', 'Potassium (mg/d)', 'Selenium (µg/d)',\n",
       "       'Sodium (mg/d)', 'Zinc (mg/d)', 'Vitamin D (µg/d)', 'Vitamin E (mg/d)',\n",
       "       'Vitamin K1 (µg/d)', 'Vitamin C (mg/d)', 'Vitamin B1 or Thiamin (mg/d)',\n",
       "       'Vitamin B2 or Riboflavin (mg/d)', 'Vitamin B3 or Niacin (mg/d)',\n",
       "       'Vitamin B5 or Pantothenic acid (mg/d)', 'Vitamin B6 (mg/d)',\n",
       "       'Vitamin B9 or Folate (µg/d)', 'Vitamin B12 (µg/d)',\n",
       "       'Vitamin A (µg/d)'],\n",
       "      dtype='object')"
      ]
     },
     "execution_count": 159,
     "metadata": {},
     "output_type": "execute_result"
    }
   ],
   "source": [
    "df_RDI.columns"
   ]
  },
  {
   "cell_type": "code",
   "execution_count": 160,
   "id": "1934edd6-e780-429c-8e7c-1f67ba7636e2",
   "metadata": {},
   "outputs": [],
   "source": [
    "# taken from https://www.kalorienbedarf.de/mann/\n",
    "# (male, 40 years, 80 kg, 180)\n",
    "kcal = 2500\n",
    "MJ = 0.0041868 * kcal\n",
    "\n",
    "carbs_kcal_per_gr = 4\n",
    "fat_kcal_per_gr = 9\n",
    "\n",
    "body_weight_kg = 80"
   ]
  },
  {
   "cell_type": "code",
   "execution_count": 161,
   "id": "a193f6de-8b98-4d68-b5e6-50af50ccb707",
   "metadata": {},
   "outputs": [
    {
     "name": "stderr",
     "output_type": "stream",
     "text": [
      "/var/folders/nr/ddp06dws5pb93pr7pmw9413w0000gq/T/ipykernel_15193/208610085.py:4: FutureWarning: The frame.append method is deprecated and will be removed from pandas in a future version. Use pandas.concat instead.\n",
      "  df_RDI=df_RDI.append({'Energy (kcal/d)' : kcal,\n"
     ]
    }
   ],
   "source": [
    "# taken from https://kwk.blv.admin.ch/naehrstofftabelle-de/nutrientsOverview.php?categoryId=18years&genderId=male\n",
    "# 80kg male\n",
    "\n",
    "df_RDI=df_RDI.append({'Energy (kcal/d)' : kcal, \n",
    " 'Protein (g/d)': 0.83*body_weight_kg, \n",
    " 'Carbohydrate (g/d)': 0.45*kcal/carbs_kcal_per_gr, \n",
    " 'Fat (g/d)': 0.35*kcal/fat_kcal_per_gr,\n",
    " 'Calcium (mg/d)': 1000.0, \n",
    " 'Chloride (mg/d)': 3100.0, \n",
    " 'Copper (mg/d)': 1.6, \n",
    " 'Iron (mg/d)': 11.0,\n",
    " 'Iodine (µg/d)': 150.0, \n",
    " 'Magnesium (mg/d)': 350.0, \n",
    " 'Manganese (mg/d)': 3.0,\n",
    " 'Phosphorus (mg/d)': 550.0, \n",
    " 'Potassium (mg/d)': 3500.0, \n",
    " 'Selenium (µg/d)': 70.0,\n",
    " 'Sodium (mg/d)': 2000.0, \n",
    " 'Zinc (mg/d)': 10.0, \n",
    " 'Vitamin D (µg/d)': 15.0, \n",
    " 'Vitamin E (mg/d)': 13.0,\n",
    " 'Vitamin K1 (µg/d)': 70.0, \n",
    " 'Vitamin C (mg/d)': 110.0, \n",
    " 'Vitamin B1 or Thiamin (mg/d)': 0.1*MJ,\n",
    " 'Vitamin B2 or Riboflavin (mg/d)': 1.6, \n",
    " 'Vitamin B3 or Niacin (mg/d)': 1.6*MJ,\n",
    " 'Vitamin B5 or Pantothenic acid (mg/d)': 5.0, \n",
    " 'Vitamin B6 (mg/d)': 1.7,\n",
    " 'Vitamin B9 or Folate (µg/d)': 330.0, \n",
    " 'Vitamin B12 (µg/d)': 4.0,\n",
    " 'Vitamin A (µg/d)': 750.0}, ignore_index=True)"
   ]
  },
  {
   "cell_type": "code",
   "execution_count": 162,
   "id": "b7e310cd-fb81-4ea6-a752-eaaea3be7f40",
   "metadata": {},
   "outputs": [],
   "source": [
    "df_RDI.to_csv(\"rdi.csv\", header=True, index=False)"
   ]
  },
  {
   "cell_type": "code",
   "execution_count": null,
   "id": "4fc769fe-7b1a-4057-a388-df88ca45edaa",
   "metadata": {},
   "outputs": [],
   "source": []
  }
 ],
 "metadata": {
  "kernelspec": {
   "display_name": "Python 3 (ipykernel)",
   "language": "python",
   "name": "python3"
  },
  "language_info": {
   "codemirror_mode": {
    "name": "ipython",
    "version": 3
   },
   "file_extension": ".py",
   "mimetype": "text/x-python",
   "name": "python",
   "nbconvert_exporter": "python",
   "pygments_lexer": "ipython3",
   "version": "3.10.8"
  }
 },
 "nbformat": 4,
 "nbformat_minor": 5
}
