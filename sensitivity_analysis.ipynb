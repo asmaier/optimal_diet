{
 "cells": [
  {
   "cell_type": "code",
   "execution_count": 19,
   "id": "299f8d37-94cb-4aec-8e19-426e30c96034",
   "metadata": {},
   "outputs": [],
   "source": [
    "# This is an example of a sensitivity analyis woth Google OR Tools.\n",
    "# It is a straightforward conversion from the example in Python PuLP \n",
    "# from https://machinelearninggeek.com/sensitivity-analysis-in-python/"
   ]
  },
  {
   "cell_type": "code",
   "execution_count": 13,
   "id": "12ac2c5e-fdb0-4146-a356-d1c077a23840",
   "metadata": {},
   "outputs": [],
   "source": [
    "import pandas as pd\n",
    "\n",
    "from ortools.linear_solver import pywraplp\n",
    "from ortools.init import pywrapinit"
   ]
  },
  {
   "cell_type": "code",
   "execution_count": 2,
   "id": "fe17eda2-8085-4619-a5bc-3e8ba9155f25",
   "metadata": {},
   "outputs": [],
   "source": [
    "solver = pywraplp.Solver.CreateSolver('GLOP')"
   ]
  },
  {
   "cell_type": "code",
   "execution_count": 3,
   "id": "8b74f11b-b9a6-456a-8830-aa1ebf91d74d",
   "metadata": {},
   "outputs": [],
   "source": [
    "A = solver.NumVar(0.0, solver.infinity(), \"A\")\n",
    "B = solver.NumVar(0.0, solver.infinity(), \"B\")"
   ]
  },
  {
   "cell_type": "code",
   "execution_count": 4,
   "id": "19fa9196-af58-4f4e-a536-8d1e86719484",
   "metadata": {},
   "outputs": [
    {
     "name": "stdout",
     "output_type": "stream",
     "text": [
      "Number of constraints = 3\n"
     ]
    }
   ],
   "source": [
    "solver.Add(4 * A + 10 * B <= 100, \"c0\")\n",
    "solver.Add(2 * A + 1 * B <= 22, \"c1\")\n",
    "solver.Add(3 * A + 3 * B <= 39, \"c2\")\n",
    "print('Number of constraints =', solver.NumConstraints())"
   ]
  },
  {
   "cell_type": "code",
   "execution_count": 5,
   "id": "593912e3-175b-4792-b10f-4a8730ffcbde",
   "metadata": {},
   "outputs": [],
   "source": [
    "solver.Maximize(60 * A + 50 * B )"
   ]
  },
  {
   "cell_type": "code",
   "execution_count": 6,
   "id": "94e6f638-ba76-4774-a696-9453758391cb",
   "metadata": {},
   "outputs": [],
   "source": [
    "status = solver.Solve()"
   ]
  },
  {
   "cell_type": "code",
   "execution_count": 7,
   "id": "72cf5745-05a5-4ed4-9f70-7ee20d36a831",
   "metadata": {},
   "outputs": [
    {
     "name": "stdout",
     "output_type": "stream",
     "text": [
      "Solution:\n",
      "Objective value = 740.0\n",
      "A = 9.000000000000002\n",
      "B = 3.9999999999999973\n"
     ]
    }
   ],
   "source": [
    "if status == pywraplp.Solver.OPTIMAL:\n",
    "    print('Solution:')\n",
    "    print('Objective value =', solver.Objective().Value())\n",
    "    print('A =', A.solution_value())\n",
    "    print('B =', B.solution_value())\n",
    "else:\n",
    "    print('The problem does not have an optimal solution.')"
   ]
  },
  {
   "cell_type": "code",
   "execution_count": 8,
   "id": "a825faa9-8779-40ef-bf1e-a116343de5cd",
   "metadata": {},
   "outputs": [],
   "source": [
    "activities = solver.ComputeConstraintActivities()"
   ]
  },
  {
   "cell_type": "code",
   "execution_count": 18,
   "id": "b5bcf464-6ffa-465e-8ae1-99fd6b5f73f0",
   "metadata": {},
   "outputs": [],
   "source": [
    "o = [{'Name':c.name(), 'shadow price':c.dual_value(), 'slack': c.ub() - activities[i]} for i, c in enumerate(solver.constraints())]"
   ]
  },
  {
   "cell_type": "code",
   "execution_count": 17,
   "id": "0809b4d0-0cbe-478e-a0a3-71f20c4d5a78",
   "metadata": {},
   "outputs": [
    {
     "name": "stdout",
     "output_type": "stream",
     "text": [
      "  Name  shadow price  slack\n",
      "0   c0     -0.000000   24.0\n",
      "1   c1     10.000000    0.0\n",
      "2   c2     13.333333    0.0\n"
     ]
    }
   ],
   "source": [
    "print(pd.DataFrame(o))"
   ]
  },
  {
   "cell_type": "code",
   "execution_count": null,
   "id": "962966ed-b55b-4f61-8549-b4ea99ab0d6f",
   "metadata": {},
   "outputs": [],
   "source": []
  }
 ],
 "metadata": {
  "kernelspec": {
   "display_name": "Python 3 (ipykernel)",
   "language": "python",
   "name": "python3"
  },
  "language_info": {
   "codemirror_mode": {
    "name": "ipython",
    "version": 3
   },
   "file_extension": ".py",
   "mimetype": "text/x-python",
   "name": "python",
   "nbconvert_exporter": "python",
   "pygments_lexer": "ipython3",
   "version": "3.10.8"
  }
 },
 "nbformat": 4,
 "nbformat_minor": 5
}
